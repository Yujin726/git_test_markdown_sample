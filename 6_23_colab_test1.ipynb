{
  "nbformat": 4,
  "nbformat_minor": 0,
  "metadata": {
    "colab": {
      "provenance": [],
      "gpuType": "T4",
      "authorship_tag": "ABX9TyNeLbo6HPehHQLxENQCobUy",
      "include_colab_link": true
    },
    "kernelspec": {
      "name": "python3",
      "display_name": "Python 3"
    },
    "language_info": {
      "name": "python"
    }
  },
  "cells": [
    {
      "cell_type": "markdown",
      "metadata": {
        "id": "view-in-github",
        "colab_type": "text"
      },
      "source": [
        "<a href=\"https://colab.research.google.com/github/Yujin726/git_test_markdown_sample/blob/main/6_23_colab_test1.ipynb\" target=\"_parent\"><img src=\"https://colab.research.google.com/assets/colab-badge.svg\" alt=\"Open In Colab\"/></a>"
      ]
    },
    {
      "cell_type": "markdown",
      "source": [
        "코랩 테스트\n"
      ],
      "metadata": {
        "id": "q2RomlZGeLqU"
      }
    },
    {
      "cell_type": "markdown",
      "source": [
        "구문 실행"
      ],
      "metadata": {
        "id": "7qUFI_Aljhn6"
      }
    },
    {
      "cell_type": "code",
      "execution_count": null,
      "metadata": {
        "colab": {
          "base_uri": "https://localhost:8080/"
        },
        "id": "Ki5oXK-pdVWu",
        "outputId": "9ad97711-a184-4daf-fcef-e48a06604ef2"
      },
      "outputs": [
        {
          "output_type": "stream",
          "name": "stdout",
          "text": [
            "Hello, World!\n"
          ]
        }
      ],
      "source": [
        "print(\"Hello, World!\")"
      ]
    },
    {
      "cell_type": "code",
      "source": [
        "x = 5\n",
        "y = \"John\"\n",
        "print(x)\n",
        "print(y)"
      ],
      "metadata": {
        "colab": {
          "base_uri": "https://localhost:8080/"
        },
        "id": "tw-BUdXPfWun",
        "outputId": "8c276391-5544-4b12-8fff-c32750385741"
      },
      "execution_count": 1,
      "outputs": [
        {
          "output_type": "stream",
          "name": "stdout",
          "text": [
            "5\n",
            "John\n"
          ]
        }
      ]
    },
    {
      "cell_type": "markdown",
      "source": [
        "Python 버전 확인"
      ],
      "metadata": {
        "id": "FnnrDpjyjLn8"
      }
    },
    {
      "cell_type": "code",
      "source": [
        "import sys\n",
        "\n",
        "print(sys.version)"
      ],
      "metadata": {
        "colab": {
          "base_uri": "https://localhost:8080/"
        },
        "id": "szvhRL7qioJM",
        "outputId": "fcd4aa77-a7d4-4335-d197-98dcf8246b34"
      },
      "execution_count": null,
      "outputs": [
        {
          "output_type": "stream",
          "name": "stdout",
          "text": [
            "3.11.13 (main, Jun  4 2025, 08:57:29) [GCC 11.4.0]\n"
          ]
        }
      ]
    },
    {
      "cell_type": "markdown",
      "source": [
        "다중줄 주석"
      ],
      "metadata": {
        "id": "vnkf-B4ckweR"
      }
    },
    {
      "cell_type": "code",
      "source": [
        "#This is a comment\n",
        "#written in\n",
        "#more than just one line\n",
        "print(\"Hello, World!\")"
      ],
      "metadata": {
        "colab": {
          "base_uri": "https://localhost:8080/"
        },
        "id": "g2OPoTGuksjx",
        "outputId": "2e1375ec-e54d-48fc-e211-9abcb9ae0fd1"
      },
      "execution_count": null,
      "outputs": [
        {
          "output_type": "stream",
          "name": "stdout",
          "text": [
            "Hello, World!\n"
          ]
        }
      ]
    },
    {
      "cell_type": "markdown",
      "source": [
        "변수_생성"
      ],
      "metadata": {
        "id": "LYGgSh_2lDyv"
      }
    },
    {
      "cell_type": "code",
      "source": [
        "x = str(3)\n",
        "y = int(3)\n",
        "z = float(3)\n",
        "print(x)\n",
        "print(y)\n",
        "print(z)"
      ],
      "metadata": {
        "colab": {
          "base_uri": "https://localhost:8080/"
        },
        "id": "uHRaUN5SjJMX",
        "outputId": "d4b3655a-8533-4252-f31b-a4aa2a7aaa73"
      },
      "execution_count": null,
      "outputs": [
        {
          "output_type": "stream",
          "name": "stdout",
          "text": [
            "3\n",
            "3\n",
            "3.0\n"
          ]
        }
      ]
    },
    {
      "cell_type": "markdown",
      "source": [
        "변수_이름"
      ],
      "metadata": {
        "id": "EuA9SJT3lbK3"
      }
    },
    {
      "cell_type": "code",
      "source": [
        "myvar = \"Jin\"\n",
        "my_var = \"Jin\"\n",
        "_my_var = \"Jin\"\n",
        "myVar = \"Jin\"\n",
        "MYVAR = \"Jin\"\n",
        "myvar2 = \"Jin\"\n",
        "print(myvar)\n",
        "print(my_var)\n",
        "print(_my_var)\n"
      ],
      "metadata": {
        "colab": {
          "base_uri": "https://localhost:8080/"
        },
        "id": "IYQ1zMhHlfVN",
        "outputId": "76f3e57b-6a1a-4542-bc94-2b6415ea108a"
      },
      "execution_count": null,
      "outputs": [
        {
          "output_type": "stream",
          "name": "stdout",
          "text": [
            "Jin\n",
            "Jin\n",
            "Jin\n"
          ]
        }
      ]
    },
    {
      "cell_type": "markdown",
      "source": [
        "변수_여러 값 할당"
      ],
      "metadata": {
        "id": "uaYmH1M_lxei"
      }
    },
    {
      "cell_type": "code",
      "source": [
        "x, y, z = \"Orange\", \"Banana\", \"Cherry\"\n",
        "print(x)\n",
        "print(y)\n",
        "print(z)"
      ],
      "metadata": {
        "colab": {
          "base_uri": "https://localhost:8080/"
        },
        "id": "lHKBm_E1l5VL",
        "outputId": "ad70e8d2-973b-412b-bd99-e2d80f1e2f8a"
      },
      "execution_count": null,
      "outputs": [
        {
          "output_type": "stream",
          "name": "stdout",
          "text": [
            "Orange\n",
            "Banana\n",
            "Cherry\n"
          ]
        }
      ]
    },
    {
      "cell_type": "markdown",
      "source": [
        "변수_하나의 값을 여러 변수에"
      ],
      "metadata": {
        "id": "0uAOy3C2moq1"
      }
    },
    {
      "cell_type": "code",
      "source": [
        "x = y = z = \"Orange\"\n",
        "print(x)\n",
        "print(y)\n",
        "print(z)"
      ],
      "metadata": {
        "colab": {
          "base_uri": "https://localhost:8080/"
        },
        "id": "gzaCncgJmv9V",
        "outputId": "231b5bd1-8db9-4b47-b6e3-8f0077301dbf"
      },
      "execution_count": null,
      "outputs": [
        {
          "output_type": "stream",
          "name": "stdout",
          "text": [
            "Orange\n",
            "Orange\n",
            "Orange\n"
          ]
        }
      ]
    },
    {
      "cell_type": "markdown",
      "source": [
        "출력 변수"
      ],
      "metadata": {
        "id": "zFdiy7OFm4Vi"
      }
    },
    {
      "cell_type": "code",
      "source": [
        "x = \"Python is awesome\"\n",
        "print(x)"
      ],
      "metadata": {
        "colab": {
          "base_uri": "https://localhost:8080/"
        },
        "id": "Qb2p7uUOnDv3",
        "outputId": "abd27aeb-374f-4c02-bfff-ec3fedd87faf"
      },
      "execution_count": null,
      "outputs": [
        {
          "output_type": "stream",
          "name": "stdout",
          "text": [
            "Python is awesome\n"
          ]
        }
      ]
    },
    {
      "cell_type": "markdown",
      "source": [
        "+연산자 사용 -> 여러 변수 출력"
      ],
      "metadata": {
        "id": "50EVh-YAmu5E"
      }
    },
    {
      "cell_type": "code",
      "source": [
        "x = \"Kwak \"\n",
        "y = \"Yu \"\n",
        "z = \"Jin\"\n",
        "print(x + y + z)"
      ],
      "metadata": {
        "colab": {
          "base_uri": "https://localhost:8080/"
        },
        "id": "pcy-qWu7nv0d",
        "outputId": "a124262d-b97a-4d46-bb5f-2c17f4a8e71c"
      },
      "execution_count": null,
      "outputs": [
        {
          "output_type": "stream",
          "name": "stdout",
          "text": [
            "Kwak Yu Jin\n"
          ]
        }
      ]
    },
    {
      "cell_type": "markdown",
      "source": [
        "+연산자 사용 -> 숫자 예시 (합)"
      ],
      "metadata": {
        "id": "hJ7K2uzAqXO5"
      }
    },
    {
      "cell_type": "code",
      "source": [
        "x = 5\n",
        "y = 10\n",
        "print(x + y)"
      ],
      "metadata": {
        "colab": {
          "base_uri": "https://localhost:8080/"
        },
        "id": "TTxC759krPLu",
        "outputId": "8cf23952-d58e-48e3-f840-cba2addfce8f"
      },
      "execution_count": null,
      "outputs": [
        {
          "output_type": "stream",
          "name": "stdout",
          "text": [
            "15\n"
          ]
        }
      ]
    },
    {
      "cell_type": "markdown",
      "source": [
        "전역 변수"
      ],
      "metadata": {
        "id": "IT3S100NrXum"
      }
    },
    {
      "cell_type": "code",
      "source": [
        "x = \"awesome\"\n",
        "\n",
        "def myfunc():\n",
        "  x = \"fantastic\"\n",
        "  print(\"Python is \" + x)\n",
        "\n",
        "myfunc()\n",
        "\n",
        "print(\"Python is \" + x)"
      ],
      "metadata": {
        "colab": {
          "base_uri": "https://localhost:8080/"
        },
        "id": "PzqP9jfcroRm",
        "outputId": "f288fed5-e055-44ac-d0c3-e068f148e49d"
      },
      "execution_count": null,
      "outputs": [
        {
          "output_type": "stream",
          "name": "stdout",
          "text": [
            "Python is fantastic\n",
            "Python is awesome\n"
          ]
        }
      ]
    },
    {
      "cell_type": "markdown",
      "source": [
        "함수 내 전역 변수 값 변경 global 키워드"
      ],
      "metadata": {
        "id": "0d9lIkkQryXY"
      }
    },
    {
      "cell_type": "code",
      "source": [
        "x = \"awesome\"\n",
        "\n",
        "def myfunc():\n",
        "  global x\n",
        "  x = \"fantastic\"\n",
        "\n",
        "myfunc()\n",
        "\n",
        "print(\"Python is \" + x)"
      ],
      "metadata": {
        "colab": {
          "base_uri": "https://localhost:8080/"
        },
        "id": "CbcSaCs1r7Ok",
        "outputId": "c6aa75ec-c4d6-4bd7-ae81-cd615d0def80"
      },
      "execution_count": null,
      "outputs": [
        {
          "output_type": "stream",
          "name": "stdout",
          "text": [
            "Python is fantastic\n"
          ]
        }
      ]
    },
    {
      "cell_type": "markdown",
      "source": [
        "변수 연습 (수업 이후)"
      ],
      "metadata": {
        "id": "fhxEbBjdtj1-"
      }
    },
    {
      "cell_type": "markdown",
      "source": [
        "데이터 유형 및 데이터 유형 *가져오기*"
      ],
      "metadata": {
        "id": "QpvJRMkBt0_S"
      }
    },
    {
      "cell_type": "markdown",
      "source": [
        "텍스트 유형:\tstr\n",
        "숫자형 유형:\tint, float, complex\n",
        "시퀀스 유형:\tlist, tuple, range\n",
        "매핑 유형:\tdict\n",
        "세트 유형:\tset,frozenset\n",
        "부울 유형:\tbool\n",
        "이진 유형:\tbytes, bytearray, memoryview\n",
        "없음 유형:\tNoneType"
      ],
      "metadata": {
        "id": "g6KBaeY7t5AR"
      }
    },
    {
      "cell_type": "code",
      "source": [
        "x = 5\n",
        "print(type(x))"
      ],
      "metadata": {
        "id": "iYxzBrHHuDaC"
      },
      "execution_count": null,
      "outputs": []
    },
    {
      "cell_type": "markdown",
      "source": [
        "데니터 유형 설정"
      ],
      "metadata": {
        "id": "izJHf5ACuG_Z"
      }
    },
    {
      "cell_type": "code",
      "source": [
        "x = \"Hello World\""
      ],
      "metadata": {
        "id": "huGXV0l1vOa3"
      },
      "execution_count": null,
      "outputs": []
    },
    {
      "cell_type": "markdown",
      "source": [
        "특정 데이터 유형 설정\n",
        "\n",
        "1. str\n",
        "2. int\n",
        "3. float\n",
        "4. complex\n"
      ],
      "metadata": {
        "id": "kScd0MKrvXa8"
      }
    },
    {
      "cell_type": "code",
      "source": [
        "x = str(\"Hello World\")\tstr\tTry it »\n",
        "x = int(20)\tint\tTry it »\n",
        "x = float(20.5)\tfloat\tTry it »\n",
        "x = complex(1j)\n"
      ],
      "metadata": {
        "id": "94aPLa1Ev2fZ"
      },
      "execution_count": null,
      "outputs": []
    }
  ]
}